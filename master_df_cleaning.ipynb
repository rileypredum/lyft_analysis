{
 "cells": [
  {
   "cell_type": "markdown",
   "metadata": {},
   "source": [
    "# Set up the CSVs"
   ]
  },
  {
   "cell_type": "code",
   "execution_count": 29,
   "metadata": {},
   "outputs": [],
   "source": [
    "import os\n",
    "\n",
    "# Create a list of all CSVs in the directory to iterate over and make\n",
    "# dataframes from.\n",
    "\n",
    "dir_name = 'C:/Users/riley/Documents/Coding/DSC/datas/baywheels-data/'\n",
    "\n",
    "# List of all .csv filenames to be read into dataframes\n",
    "csv_list = os.listdir(dir_name)\n",
    "\n",
    "# Build a list of dataframe names by removing .csv\n",
    "df_names = []\n",
    "\n",
    "for csv in csv_list:\n",
    "    df_name = csv.replace('.csv', '')\n",
    "    df_names.append(df_name)"
   ]
  },
  {
   "cell_type": "markdown",
   "metadata": {},
   "source": [
    "# Put them in a dict and concatenate"
   ]
  },
  {
   "cell_type": "code",
   "execution_count": 30,
   "metadata": {},
   "outputs": [],
   "source": [
    "# Names of DFs and the filenames\n",
    "df_dict_names = dict(zip(df_names, csv_list))"
   ]
  },
  {
   "cell_type": "code",
   "execution_count": 35,
   "metadata": {},
   "outputs": [],
   "source": [
    "import pandas as pd\n",
    "\n",
    "# Create a dictionary of dataframes to then concatenate into one dataframe\n",
    "\n",
    "dict_of_dataframes = {}\n",
    "for i in range(len(df_names)):\n",
    "    dict_of_dataframes[df_names[i]] = pd.read_csv(dir_name+csv_list[i])"
   ]
  },
  {
   "cell_type": "code",
   "execution_count": 37,
   "metadata": {},
   "outputs": [
    {
     "name": "stderr",
     "output_type": "stream",
     "text": [
      "c:\\users\\riley\\appdata\\local\\programs\\python\\python37-32\\lib\\site-packages\\ipykernel_launcher.py:1: FutureWarning: Sorting because non-concatenation axis is not aligned. A future version\n",
      "of pandas will change to not sort by default.\n",
      "\n",
      "To accept the future behavior, pass 'sort=False'.\n",
      "\n",
      "To retain the current behavior and silence the warning, pass 'sort=True'.\n",
      "\n",
      "  \"\"\"Entry point for launching an IPython kernel.\n"
     ]
    }
   ],
   "source": [
    "master_df = pd.concat(dict_of_dataframes.values())"
   ]
  },
  {
   "cell_type": "markdown",
   "metadata": {},
   "source": [
    "# Data cleaning"
   ]
  },
  {
   "cell_type": "code",
   "execution_count": 40,
   "metadata": {},
   "outputs": [],
   "source": [
    "import numpy as np\n",
    "\n",
    "# Get min from seconds column\n",
    "master_df['duration_min'] = np.round(master_df['duration_sec'] / 60, 0)"
   ]
  },
  {
   "cell_type": "code",
   "execution_count": 41,
   "metadata": {},
   "outputs": [],
   "source": [
    "# Use pd.to_datetime to convert the time strings to datetime objects\n",
    "# for easier time series analyses\n",
    "\n",
    "master_df['start_time'] = pd.to_datetime(master_df['start_time'])\n",
    "master_df['end_time'] = pd.to_datetime(master_df['end_time'])"
   ]
  },
  {
   "cell_type": "code",
   "execution_count": 42,
   "metadata": {},
   "outputs": [],
   "source": [
    "# Encode the different categorical genders to integers\n",
    "genders = {'Male': 0, 'Female':1, 'Other':2}\n",
    "\n",
    "# Use replace to replace each key in genders dict with corresponding value\n",
    "master_df['member_gender'].replace(genders, inplace=True);"
   ]
  },
  {
   "cell_type": "code",
   "execution_count": 43,
   "metadata": {},
   "outputs": [],
   "source": [
    "import datetime\n",
    "\n",
    "# Will now interpolate the member_birth_year with the mean birth year\n",
    "# Also, I'm gonna get their age by subtracting now() from their birth year\n",
    "master_df['member_birth_year'].fillna(np.mean(master_df['member_birth_year']), inplace=True)\n",
    "\n",
    "# That got years as floats so I'm changing it to int:\n",
    "master_df['member_birth_year'] = master_df['member_birth_year'].apply(np.int64)\n",
    "\n",
    "# Now let's get the current year and subtract that from birth year to get age.\n",
    "now = datetime.datetime.now()\n",
    "master_df['age'] = now.year - master_df['member_birth_year']"
   ]
  },
  {
   "cell_type": "markdown",
   "metadata": {},
   "source": [
    "### Write to disc and then run on server or someone else's computer"
   ]
  },
  {
   "cell_type": "code",
   "execution_count": 56,
   "metadata": {},
   "outputs": [],
   "source": [
    "# move out to the data folder\n",
    "os.chdir('../datas')\n",
    "\n",
    "# create a new directory for the final file\n",
    "os.mkdir('last_step_data_cleaning')\n",
    "\n",
    "# change to the new folder to write the file\n",
    "os.chdir('C:/Users/riley/Documents/Coding/DSC/datas/last_step_data_cleaning')"
   ]
  },
  {
   "cell_type": "code",
   "execution_count": 57,
   "metadata": {},
   "outputs": [],
   "source": [
    "master_df.to_csv('C:/Users/riley/Documents/Coding/DSC/datas/last_step_data_cleaning/needs_cost_calc.csv')"
   ]
  }
 ],
 "metadata": {
  "kernelspec": {
   "display_name": "Python 3",
   "language": "python",
   "name": "python3"
  },
  "language_info": {
   "codemirror_mode": {
    "name": "ipython",
    "version": 3
   },
   "file_extension": ".py",
   "mimetype": "text/x-python",
   "name": "python",
   "nbconvert_exporter": "python",
   "pygments_lexer": "ipython3",
   "version": "3.7.1"
  }
 },
 "nbformat": 4,
 "nbformat_minor": 2
}
