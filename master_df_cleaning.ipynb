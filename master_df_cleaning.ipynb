{
 "cells": [
  {
   "cell_type": "markdown",
   "metadata": {},
   "source": [
    "# Set up the CSVs"
   ]
  },
  {
   "cell_type": "code",
   "execution_count": 28,
   "metadata": {},
   "outputs": [],
   "source": [
    "import os\n",
    "\n",
    "# Create a list of all CSVs in the directory to iterate over and make\n",
    "# dataframes from.\n",
    "\n",
    "dir_name = 'C:/Users/riley/Documents/Coding/DSC/datas/baywheels-data/'\n",
    "\n",
    "# List of all .csv filenames to be read into dataframes\n",
    "csv_list = os.listdir(dir_name)\n",
    "\n",
    "# Build a list of dataframe names by removing .csv\n",
    "df_names = []\n",
    "\n",
    "for csv in csv_list:\n",
    "    df_name = csv.replace('.csv', '')\n",
    "    df_names.append(df_name)"
   ]
  },
  {
   "cell_type": "code",
   "execution_count": 29,
   "metadata": {},
   "outputs": [],
   "source": [
    "# a technique for random sampling n% of the dataframe's rows\n",
    "# if I use this I will lose the ability to look at data at the month level\n",
    "\n",
    "import pandas as pd\n",
    "import random\n",
    "\n",
    "filename = 'C:/Users/riley/Documents/Coding/DSC/datas/baywheels-data/2017-fordgobike-tripdata.csv'\n",
    "\n",
    "p = 0.09  # 1% of the lines\n",
    "# keep the header, then take only 1% of lines\n",
    "# if random from [0,1] interval is greater than 0.01 the row will be skipped\n",
    "df = pd.read_csv(\n",
    "         filename,\n",
    "         header=0, \n",
    "         skiprows=lambda i: i>0 and random.random() > p\n",
    ")"
   ]
  },
  {
   "cell_type": "code",
   "execution_count": 32,
   "metadata": {},
   "outputs": [
    {
     "data": {
      "text/plain": [
       "519700"
      ]
     },
     "execution_count": 32,
     "metadata": {},
     "output_type": "execute_result"
    }
   ],
   "source": [
    "len(df)"
   ]
  },
  {
   "cell_type": "markdown",
   "metadata": {},
   "source": [
    "# Put them in a dict and concatenate"
   ]
  },
  {
   "cell_type": "code",
   "execution_count": 23,
   "metadata": {},
   "outputs": [
    {
     "data": {
      "text/plain": [
       "{'2017-fordgobike-tripdata': '2017-fordgobike-tripdata.csv',\n",
       " '201801-fordgobike-tripdata': '201801-fordgobike-tripdata.csv',\n",
       " '201802-fordgobike-tripdata': '201802-fordgobike-tripdata.csv',\n",
       " '201803-fordgobike-tripdata': '201803-fordgobike-tripdata.csv',\n",
       " '201804-fordgobike-tripdata': '201804-fordgobike-tripdata.csv',\n",
       " '201805-fordgobike-tripdata': '201805-fordgobike-tripdata.csv',\n",
       " '201806-fordgobike-tripdata': '201806-fordgobike-tripdata.csv',\n",
       " '201807-fordgobike-tripdata': '201807-fordgobike-tripdata.csv',\n",
       " '201808-fordgobike-tripdata': '201808-fordgobike-tripdata.csv',\n",
       " '201809-fordgobike-tripdata': '201809-fordgobike-tripdata.csv',\n",
       " '201810-fordgobike-tripdata': '201810-fordgobike-tripdata.csv',\n",
       " '201811-fordgobike-tripdata': '201811-fordgobike-tripdata.csv',\n",
       " '201812-fordgobike-tripdata': '201812-fordgobike-tripdata.csv',\n",
       " '201901-fordgobike-tripdata': '201901-fordgobike-tripdata.csv',\n",
       " '201902-fordgobike-tripdata': '201902-fordgobike-tripdata.csv',\n",
       " '201903-fordgobike-tripdata': '201903-fordgobike-tripdata.csv',\n",
       " '201904-fordgobike-tripdata': '201904-fordgobike-tripdata.csv',\n",
       " '201905-baywheels-tripdata': '201905-baywheels-tripdata.csv'}"
      ]
     },
     "execution_count": 23,
     "metadata": {},
     "output_type": "execute_result"
    }
   ],
   "source": [
    "# Names of DFs and the filenames\n",
    "df_dict_names = dict(zip(df_names, csv_list))\n",
    "df_dict_names"
   ]
  },
  {
   "cell_type": "code",
   "execution_count": 24,
   "metadata": {},
   "outputs": [],
   "source": [
    "import pandas as pd\n",
    "\n",
    "# Create a dictionary of dataframes to then concatenate into one dataframe\n",
    "\n",
    "dict_of_dataframes = {}\n",
    "for i in range(len(df_names)):\n",
    "    dict_of_dataframes[df_names[i]] = pd.read_csv(dir_name+csv_list[i])"
   ]
  },
  {
   "cell_type": "code",
   "execution_count": 25,
   "metadata": {},
   "outputs": [
    {
     "name": "stderr",
     "output_type": "stream",
     "text": [
      "c:\\users\\riley\\appdata\\local\\programs\\python\\python37-32\\lib\\site-packages\\ipykernel_launcher.py:1: FutureWarning: Sorting because non-concatenation axis is not aligned. A future version\n",
      "of pandas will change to not sort by default.\n",
      "\n",
      "To accept the future behavior, pass 'sort=False'.\n",
      "\n",
      "To retain the current behavior and silence the warning, pass 'sort=True'.\n",
      "\n",
      "  \"\"\"Entry point for launching an IPython kernel.\n"
     ]
    }
   ],
   "source": [
    "master_df = pd.concat(dict_of_dataframes.values())"
   ]
  },
  {
   "cell_type": "markdown",
   "metadata": {},
   "source": [
    "# Data cleaning"
   ]
  },
  {
   "cell_type": "code",
   "execution_count": 26,
   "metadata": {},
   "outputs": [],
   "source": [
    "import numpy as np\n",
    "\n",
    "# Get min from seconds column\n",
    "master_df['duration_min'] = np.round(master_df['duration_sec'] / 60, 0)"
   ]
  },
  {
   "cell_type": "code",
   "execution_count": 41,
   "metadata": {},
   "outputs": [],
   "source": [
    "# Use pd.to_datetime to convert the time strings to datetime objects\n",
    "# for easier time series analyses\n",
    "\n",
    "master_df['start_time'] = pd.to_datetime(master_df['start_time'])\n",
    "master_df['end_time'] = pd.to_datetime(master_df['end_time'])"
   ]
  },
  {
   "cell_type": "code",
   "execution_count": 42,
   "metadata": {},
   "outputs": [],
   "source": [
    "# Encode the different categorical genders to integers\n",
    "genders = {'Male': 0, 'Female':1, 'Other':2}\n",
    "\n",
    "# Use replace to replace each key in genders dict with corresponding value\n",
    "master_df['member_gender'].replace(genders, inplace=True);"
   ]
  },
  {
   "cell_type": "code",
   "execution_count": 43,
   "metadata": {},
   "outputs": [],
   "source": [
    "import datetime\n",
    "\n",
    "# Will now interpolate the member_birth_year with the mean birth year\n",
    "# Also, I'm gonna get their age by subtracting now() from their birth year\n",
    "master_df['member_birth_year'].fillna(np.mean(master_df['member_birth_year']), inplace=True)\n",
    "\n",
    "# That got years as floats so I'm changing it to int:\n",
    "master_df['member_birth_year'] = master_df['member_birth_year'].apply(np.int64)\n",
    "\n",
    "# Now let's get the current year and subtract that from birth year to get age.\n",
    "now = datetime.datetime.now()\n",
    "master_df['age'] = now.year - master_df['member_birth_year']"
   ]
  },
  {
   "cell_type": "markdown",
   "metadata": {},
   "source": [
    "### Write to disc and then run on server or someone else's computer"
   ]
  },
  {
   "cell_type": "code",
   "execution_count": 56,
   "metadata": {},
   "outputs": [],
   "source": [
    "# move out to the data folder\n",
    "os.chdir('../datas')\n",
    "\n",
    "# create a new directory for the final file\n",
    "os.mkdir('last_step_data_cleaning')\n",
    "\n",
    "# change to the new folder to write the file\n",
    "os.chdir('C:/Users/riley/Documents/Coding/DSC/datas/last_step_data_cleaning')"
   ]
  },
  {
   "cell_type": "code",
   "execution_count": 57,
   "metadata": {},
   "outputs": [],
   "source": [
    "master_df.to_csv('C:/Users/riley/Documents/Coding/DSC/datas/last_step_data_cleaning/needs_cost_calc.csv')"
   ]
  },
  {
   "cell_type": "code",
   "execution_count": 67,
   "metadata": {},
   "outputs": [],
   "source": [
    "# import gmplot package \n",
    "import gmplot \n",
    "\n",
    "# GoogleMapPlotter return Map object \n",
    "# Pass the center latitude and \n",
    "# center longitude \n",
    "gmap1 = gmplot.GoogleMapPlotter(30.3164945, \n",
    "\t\t\t\t\t\t\t\t78.03219179999999, 13 ) \n",
    "\n",
    "# Pass the absolute path \n",
    "gmap1.draw( \"C:\\\\Users\\\\riley\\\\Desktop\\\\map11.html\" ) \n"
   ]
  },
  {
   "cell_type": "code",
   "execution_count": null,
   "metadata": {},
   "outputs": [],
   "source": []
  }
 ],
 "metadata": {
  "kernelspec": {
   "display_name": "Python 3",
   "language": "python",
   "name": "python3"
  },
  "language_info": {
   "codemirror_mode": {
    "name": "ipython",
    "version": 3
   },
   "file_extension": ".py",
   "mimetype": "text/x-python",
   "name": "python",
   "nbconvert_exporter": "python",
   "pygments_lexer": "ipython3",
   "version": "3.7.1"
  }
 },
 "nbformat": 4,
 "nbformat_minor": 2
}
