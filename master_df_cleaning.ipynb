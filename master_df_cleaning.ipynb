{
 "cells": [
  {
   "cell_type": "markdown",
   "metadata": {},
   "source": [
    "# Set up the CSVs"
   ]
  },
  {
   "cell_type": "code",
   "execution_count": 22,
   "metadata": {},
   "outputs": [],
   "source": [
    "import os\n",
    "\n",
    "# Create a list of all CSVs in the directory to iterate over and make\n",
    "# dataframes from.\n",
    "\n",
    "dir_name = 'C:/Users/riley/Documents/Coding/DSC/datas/data_to_iterate/'\n",
    "\n",
    "# List of all .csv filenames to be read into dataframes\n",
    "csv_list = os.listdir(dir_name)\n",
    "\n",
    "# Build a list of dataframe names by removing .csv\n",
    "df_names = []\n",
    "\n",
    "for csv in csv_list:\n",
    "    df_name = csv.replace('.csv', '')\n",
    "    df_names.append(df_name)"
   ]
  },
  {
   "cell_type": "markdown",
   "metadata": {},
   "source": [
    "# Put them in a dict and concatenate"
   ]
  },
  {
   "cell_type": "code",
   "execution_count": 23,
   "metadata": {},
   "outputs": [
    {
     "data": {
      "text/plain": [
       "{'201801-fordgobike-tripdata': '201801-fordgobike-tripdata.csv',\n",
       " '201802-fordgobike-tripdata': '201802-fordgobike-tripdata.csv',\n",
       " '201803-fordgobike-tripdata': '201803-fordgobike-tripdata.csv',\n",
       " '201804-fordgobike-tripdata': '201804-fordgobike-tripdata.csv',\n",
       " '201805-fordgobike-tripdata': '201805-fordgobike-tripdata.csv',\n",
       " '201806-fordgobike-tripdata': '201806-fordgobike-tripdata.csv',\n",
       " '201807-fordgobike-tripdata': '201807-fordgobike-tripdata.csv',\n",
       " '201808-fordgobike-tripdata': '201808-fordgobike-tripdata.csv',\n",
       " '201809-fordgobike-tripdata': '201809-fordgobike-tripdata.csv',\n",
       " '201810-fordgobike-tripdata': '201810-fordgobike-tripdata.csv',\n",
       " '201811-fordgobike-tripdata': '201811-fordgobike-tripdata.csv',\n",
       " '201812-fordgobike-tripdata': '201812-fordgobike-tripdata.csv'}"
      ]
     },
     "execution_count": 23,
     "metadata": {},
     "output_type": "execute_result"
    }
   ],
   "source": [
    "# Names of DFs and the filenames\n",
    "df_dict_names = dict(zip(df_names, csv_list))\n",
    "df_dict_names"
   ]
  },
  {
   "cell_type": "code",
   "execution_count": 25,
   "metadata": {},
   "outputs": [],
   "source": [
    "import pandas as pd\n",
    "import random\n",
    "p = 0.1\n",
    "\n",
    "# Create a dictionary of dataframes to then concatenate into one dataframe\n",
    "\n",
    "dict_of_dataframes = {}\n",
    "for i in range(len(df_names)):\n",
    "    dict_of_dataframes[df_names[i]] = pd.read_csv(dir_name+csv_list[i], skiprows=lambda i: i>0 and random.random() > p)"
   ]
  },
  {
   "cell_type": "code",
   "execution_count": 26,
   "metadata": {},
   "outputs": [],
   "source": [
    "master_df = pd.concat(dict_of_dataframes.values())"
   ]
  },
  {
   "cell_type": "markdown",
   "metadata": {},
   "source": [
    "# Data cleaning"
   ]
  },
  {
   "cell_type": "code",
   "execution_count": 27,
   "metadata": {},
   "outputs": [],
   "source": [
    "import numpy as np\n",
    "\n",
    "# Get min from seconds column\n",
    "master_df['duration_min'] = np.round(master_df['duration_sec'] / 60, 0)"
   ]
  },
  {
   "cell_type": "code",
   "execution_count": 28,
   "metadata": {},
   "outputs": [],
   "source": [
    "# Use pd.to_datetime to convert the time strings to datetime objects\n",
    "# for easier time series analyses\n",
    "\n",
    "master_df['start_time'] = pd.to_datetime(master_df['start_time'])\n",
    "master_df['end_time'] = pd.to_datetime(master_df['end_time'])"
   ]
  },
  {
   "cell_type": "code",
   "execution_count": 29,
   "metadata": {},
   "outputs": [],
   "source": [
    "# Encode the different categorical genders to integers\n",
    "genders = {'Male': 0, 'Female':1, 'Other':2}\n",
    "\n",
    "# Use replace to replace each key in genders dict with corresponding value\n",
    "master_df['member_gender'].replace(genders, inplace=True);"
   ]
  },
  {
   "cell_type": "code",
   "execution_count": 30,
   "metadata": {},
   "outputs": [],
   "source": [
    "import datetime\n",
    "\n",
    "# Will now interpolate the member_birth_year with the mean birth year\n",
    "# Also, I'm gonna get their age by subtracting now() from their birth year\n",
    "master_df['member_birth_year'].fillna(np.mean(master_df['member_birth_year']), inplace=True)\n",
    "\n",
    "# That got years as floats so I'm changing it to int:\n",
    "master_df['member_birth_year'] = master_df['member_birth_year'].apply(np.int64)\n",
    "\n",
    "# Now let's get the current year and subtract that from birth year to get age.\n",
    "now = datetime.datetime.now()\n",
    "master_df['age'] = now.year - master_df['member_birth_year']"
   ]
  },
  {
   "cell_type": "code",
   "execution_count": 38,
   "metadata": {},
   "outputs": [
    {
     "name": "stderr",
     "output_type": "stream",
     "text": [
      "c:\\users\\riley\\appdata\\local\\programs\\python\\python37-32\\lib\\site-packages\\ipykernel_launcher.py:11: SettingWithCopyWarning: \n",
      "A value is trying to be set on a copy of a slice from a DataFrame.\n",
      "Try using .loc[row_indexer,col_indexer] = value instead\n",
      "\n",
      "See the caveats in the documentation: http://pandas.pydata.org/pandas-docs/stable/indexing.html#indexing-view-versus-copy\n",
      "  # This is added back by InteractiveShellApp.init_path()\n",
      "c:\\users\\riley\\appdata\\local\\programs\\python\\python37-32\\lib\\site-packages\\ipykernel_launcher.py:17: SettingWithCopyWarning: \n",
      "A value is trying to be set on a copy of a slice from a DataFrame.\n",
      "Try using .loc[row_indexer,col_indexer] = value instead\n",
      "\n",
      "See the caveats in the documentation: http://pandas.pydata.org/pandas-docs/stable/indexing.html#indexing-view-versus-copy\n"
     ]
    }
   ],
   "source": [
    "# Apply the price calculator to separate dfs, one for each customer type\n",
    "# this is pretty fast computationally\n",
    "\n",
    "import math as m\n",
    "\n",
    "\n",
    "customers = master_df[master_df['user_type'] == 'Customer']\n",
    "\n",
    "cost_calc = lambda minute: 2 + m.ceil(max((minute - 30), 0) / 15) * 3\n",
    "\n",
    "customers['cost_to_ride'] = customers['duration_min'].apply(cost_calc)\n",
    "\n",
    "subscribers = master_df[master_df['user_type'] == 'Subscriber']\n",
    "\n",
    "cost_calc = lambda minute: m.ceil(max((minute - 45), 0) / 15) * 3\n",
    "\n",
    "subscribers['cost_to_ride'] = subscribers['duration_min'].apply(cost_calc)\n",
    "\n",
    "master_df = pd.concat([subscribers, customers])"
   ]
  },
  {
   "cell_type": "code",
   "execution_count": 39,
   "metadata": {},
   "outputs": [
    {
     "data": {
      "text/html": [
       "<div>\n",
       "<style scoped>\n",
       "    .dataframe tbody tr th:only-of-type {\n",
       "        vertical-align: middle;\n",
       "    }\n",
       "\n",
       "    .dataframe tbody tr th {\n",
       "        vertical-align: top;\n",
       "    }\n",
       "\n",
       "    .dataframe thead th {\n",
       "        text-align: right;\n",
       "    }\n",
       "</style>\n",
       "<table border=\"1\" class=\"dataframe\">\n",
       "  <thead>\n",
       "    <tr style=\"text-align: right;\">\n",
       "      <th></th>\n",
       "      <th>duration_sec</th>\n",
       "      <th>start_time</th>\n",
       "      <th>end_time</th>\n",
       "      <th>start_station_id</th>\n",
       "      <th>start_station_name</th>\n",
       "      <th>start_station_latitude</th>\n",
       "      <th>start_station_longitude</th>\n",
       "      <th>end_station_id</th>\n",
       "      <th>end_station_name</th>\n",
       "      <th>end_station_latitude</th>\n",
       "      <th>end_station_longitude</th>\n",
       "      <th>bike_id</th>\n",
       "      <th>user_type</th>\n",
       "      <th>member_birth_year</th>\n",
       "      <th>member_gender</th>\n",
       "      <th>bike_share_for_all_trip</th>\n",
       "      <th>duration_min</th>\n",
       "      <th>age</th>\n",
       "      <th>cost_to_ride</th>\n",
       "    </tr>\n",
       "  </thead>\n",
       "  <tbody>\n",
       "    <tr>\n",
       "      <th>0</th>\n",
       "      <td>686</td>\n",
       "      <td>2018-01-31 23:07:15.313</td>\n",
       "      <td>2018-01-31 23:18:41.558</td>\n",
       "      <td>312.0</td>\n",
       "      <td>San Jose Diridon Station</td>\n",
       "      <td>37.329732</td>\n",
       "      <td>-121.901782</td>\n",
       "      <td>317.0</td>\n",
       "      <td>San Salvador St at 9th St</td>\n",
       "      <td>37.333955</td>\n",
       "      <td>-121.877349</td>\n",
       "      <td>1886</td>\n",
       "      <td>Subscriber</td>\n",
       "      <td>1997</td>\n",
       "      <td>1.0</td>\n",
       "      <td>No</td>\n",
       "      <td>11.0</td>\n",
       "      <td>22</td>\n",
       "      <td>0</td>\n",
       "    </tr>\n",
       "    <tr>\n",
       "      <th>2</th>\n",
       "      <td>2219</td>\n",
       "      <td>2018-01-31 22:24:39.943</td>\n",
       "      <td>2018-01-31 23:01:39.571</td>\n",
       "      <td>30.0</td>\n",
       "      <td>San Francisco Caltrain (Townsend St at 4th St)</td>\n",
       "      <td>37.776598</td>\n",
       "      <td>-122.395282</td>\n",
       "      <td>81.0</td>\n",
       "      <td>Berry St at 4th St</td>\n",
       "      <td>37.775880</td>\n",
       "      <td>-122.393170</td>\n",
       "      <td>1757</td>\n",
       "      <td>Subscriber</td>\n",
       "      <td>1991</td>\n",
       "      <td>1.0</td>\n",
       "      <td>No</td>\n",
       "      <td>37.0</td>\n",
       "      <td>28</td>\n",
       "      <td>0</td>\n",
       "    </tr>\n",
       "    <tr>\n",
       "      <th>3</th>\n",
       "      <td>307</td>\n",
       "      <td>2018-01-31 22:37:37.815</td>\n",
       "      <td>2018-01-31 22:42:44.948</td>\n",
       "      <td>13.0</td>\n",
       "      <td>Commercial St at Montgomery St</td>\n",
       "      <td>37.794231</td>\n",
       "      <td>-122.402923</td>\n",
       "      <td>9.0</td>\n",
       "      <td>Broadway at Battery St</td>\n",
       "      <td>37.798572</td>\n",
       "      <td>-122.400869</td>\n",
       "      <td>3111</td>\n",
       "      <td>Subscriber</td>\n",
       "      <td>1985</td>\n",
       "      <td>0.0</td>\n",
       "      <td>No</td>\n",
       "      <td>5.0</td>\n",
       "      <td>34</td>\n",
       "      <td>0</td>\n",
       "    </tr>\n",
       "    <tr>\n",
       "      <th>4</th>\n",
       "      <td>976</td>\n",
       "      <td>2018-01-31 22:25:48.938</td>\n",
       "      <td>2018-01-31 22:42:05.135</td>\n",
       "      <td>106.0</td>\n",
       "      <td>Sanchez St at 17th St</td>\n",
       "      <td>37.763242</td>\n",
       "      <td>-122.430675</td>\n",
       "      <td>80.0</td>\n",
       "      <td>Townsend St at 5th St</td>\n",
       "      <td>37.775306</td>\n",
       "      <td>-122.397380</td>\n",
       "      <td>2014</td>\n",
       "      <td>Subscriber</td>\n",
       "      <td>1966</td>\n",
       "      <td>0.0</td>\n",
       "      <td>No</td>\n",
       "      <td>16.0</td>\n",
       "      <td>53</td>\n",
       "      <td>0</td>\n",
       "    </tr>\n",
       "    <tr>\n",
       "      <th>5</th>\n",
       "      <td>520</td>\n",
       "      <td>2018-01-31 22:32:52.933</td>\n",
       "      <td>2018-01-31 22:41:33.147</td>\n",
       "      <td>146.0</td>\n",
       "      <td>30th St at San Jose Ave</td>\n",
       "      <td>37.742314</td>\n",
       "      <td>-122.423180</td>\n",
       "      <td>98.0</td>\n",
       "      <td>Valencia St at 16th St</td>\n",
       "      <td>37.765052</td>\n",
       "      <td>-122.421866</td>\n",
       "      <td>1278</td>\n",
       "      <td>Subscriber</td>\n",
       "      <td>1992</td>\n",
       "      <td>0.0</td>\n",
       "      <td>No</td>\n",
       "      <td>9.0</td>\n",
       "      <td>27</td>\n",
       "      <td>0</td>\n",
       "    </tr>\n",
       "  </tbody>\n",
       "</table>\n",
       "</div>"
      ],
      "text/plain": [
       "   duration_sec              start_time                end_time  \\\n",
       "0           686 2018-01-31 23:07:15.313 2018-01-31 23:18:41.558   \n",
       "2          2219 2018-01-31 22:24:39.943 2018-01-31 23:01:39.571   \n",
       "3           307 2018-01-31 22:37:37.815 2018-01-31 22:42:44.948   \n",
       "4           976 2018-01-31 22:25:48.938 2018-01-31 22:42:05.135   \n",
       "5           520 2018-01-31 22:32:52.933 2018-01-31 22:41:33.147   \n",
       "\n",
       "   start_station_id                              start_station_name  \\\n",
       "0             312.0                        San Jose Diridon Station   \n",
       "2              30.0  San Francisco Caltrain (Townsend St at 4th St)   \n",
       "3              13.0                  Commercial St at Montgomery St   \n",
       "4             106.0                           Sanchez St at 17th St   \n",
       "5             146.0                         30th St at San Jose Ave   \n",
       "\n",
       "   start_station_latitude  start_station_longitude  end_station_id  \\\n",
       "0               37.329732              -121.901782           317.0   \n",
       "2               37.776598              -122.395282            81.0   \n",
       "3               37.794231              -122.402923             9.0   \n",
       "4               37.763242              -122.430675            80.0   \n",
       "5               37.742314              -122.423180            98.0   \n",
       "\n",
       "            end_station_name  end_station_latitude  end_station_longitude  \\\n",
       "0  San Salvador St at 9th St             37.333955            -121.877349   \n",
       "2         Berry St at 4th St             37.775880            -122.393170   \n",
       "3     Broadway at Battery St             37.798572            -122.400869   \n",
       "4      Townsend St at 5th St             37.775306            -122.397380   \n",
       "5     Valencia St at 16th St             37.765052            -122.421866   \n",
       "\n",
       "   bike_id   user_type  member_birth_year  member_gender  \\\n",
       "0     1886  Subscriber               1997            1.0   \n",
       "2     1757  Subscriber               1991            1.0   \n",
       "3     3111  Subscriber               1985            0.0   \n",
       "4     2014  Subscriber               1966            0.0   \n",
       "5     1278  Subscriber               1992            0.0   \n",
       "\n",
       "  bike_share_for_all_trip  duration_min  age  cost_to_ride  \n",
       "0                      No          11.0   22             0  \n",
       "2                      No          37.0   28             0  \n",
       "3                      No           5.0   34             0  \n",
       "4                      No          16.0   53             0  \n",
       "5                      No           9.0   27             0  "
      ]
     },
     "execution_count": 39,
     "metadata": {},
     "output_type": "execute_result"
    }
   ],
   "source": [
    "master_df.head()"
   ]
  },
  {
   "cell_type": "code",
   "execution_count": 40,
   "metadata": {},
   "outputs": [],
   "source": [
    "cols_to_drop = ['member_birth_year',\n",
    "               'start_station_name',\n",
    "               'end_station_name',\n",
    "               'duration_sec',\n",
    "               'bike_share_for_all_trip']\n",
    "\n",
    "master_df.drop(cols_to_drop, axis=1, inplace=True)"
   ]
  },
  {
   "cell_type": "markdown",
   "metadata": {},
   "source": [
    "### Write to disc"
   ]
  },
  {
   "cell_type": "code",
   "execution_count": 41,
   "metadata": {},
   "outputs": [],
   "source": [
    "# move out to the data folder\n",
    "os.chdir('../datas')\n",
    "\n",
    "master_df.to_csv('C:/Users/riley/Documents/Coding/DSC/datas/last_step_data_cleaning/master_df.csv')"
   ]
  }
 ],
 "metadata": {
  "kernelspec": {
   "display_name": "Python 3",
   "language": "python",
   "name": "python3"
  },
  "language_info": {
   "codemirror_mode": {
    "name": "ipython",
    "version": 3
   },
   "file_extension": ".py",
   "mimetype": "text/x-python",
   "name": "python",
   "nbconvert_exporter": "python",
   "pygments_lexer": "ipython3",
   "version": "3.7.1"
  }
 },
 "nbformat": 4,
 "nbformat_minor": 2
}
