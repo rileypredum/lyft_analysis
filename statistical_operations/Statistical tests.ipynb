{
 "cells": [
  {
   "cell_type": "markdown",
   "metadata": {},
   "source": [
    "# Stats Tests"
   ]
  },
  {
   "cell_type": "markdown",
   "metadata": {},
   "source": [
    "The purpose of this notebook is to look into statistical significance, hypothesis tests, and tests to verify that the empirical distributions match or don't match the theoretical distributions I see these variables as."
   ]
  },
  {
   "cell_type": "markdown",
   "metadata": {},
   "source": [
    "In this notebook I'll perform the following:\n",
    "\n",
    "1. A little more EDA as needed and data cleaning that results from that\n",
    "\n",
    "2. Joining the region IDs and filtering down as I've done for the master DF\n",
    "\n",
    "3. Bootstrap resampling on various discrete and continuous variables to see that my samples reasonably came from the population.\n",
    "\n",
    "4. Bayesian tests as necessary."
   ]
  },
  {
   "cell_type": "markdown",
   "metadata": {},
   "source": [
    "### 1. EDA/Cleaning and 2. Region ID merging"
   ]
  },
  {
   "cell_type": "code",
   "execution_count": 1,
   "metadata": {},
   "outputs": [],
   "source": [
    "# some manipulations happened in EDA Part I so I'm loading in an updated dev_df.\n",
    "\n",
    "import pandas as pd, numpy as np\n",
    "\n",
    "dev_df = pd.read_csv('C:/Users/riley/Documents/Coding/DSC/lyft_no_data/dev_df_post_EDA_cleaning.csv')"
   ]
  },
  {
   "cell_type": "code",
   "execution_count": 2,
   "metadata": {},
   "outputs": [],
   "source": [
    "# joining the regions df so that I can filter by SF region\n",
    "\n",
    "regions = pd.read_csv('C:/Users/riley/Documents/Coding/DSC/lyft_no_data/region_ids.csv')\n",
    "\n",
    "dev_df = pd.merge(dev_df, regions, 'inner', left_on='start_station_id', right_on='station_id')"
   ]
  },
  {
   "cell_type": "code",
   "execution_count": 3,
   "metadata": {},
   "outputs": [],
   "source": [
    "# filter by SF region\n",
    "\n",
    "dev_df = dev_df[dev_df['region_id'] == 3]"
   ]
  },
  {
   "cell_type": "code",
   "execution_count": 4,
   "metadata": {},
   "outputs": [],
   "source": [
    "# Get revenue by station\n",
    "\n",
    "station_revenue = dev_df.pivot_table(values='cost_to_ride', columns='start_station_id', aggfunc='sum').melt()"
   ]
  },
  {
   "cell_type": "code",
   "execution_count": 5,
   "metadata": {},
   "outputs": [],
   "source": [
    "station_revenue['total_value_of_station'] = station_revenue['value']"
   ]
  },
  {
   "cell_type": "code",
   "execution_count": 6,
   "metadata": {},
   "outputs": [],
   "source": [
    "station_revenue.drop('value', axis=1, inplace=True)"
   ]
  },
  {
   "cell_type": "code",
   "execution_count": 7,
   "metadata": {},
   "outputs": [],
   "source": [
    "dev_df = dev_df.merge(station_revenue, 'inner', left_on='start_station_id', right_on='total_value_of_station')"
   ]
  },
  {
   "cell_type": "code",
   "execution_count": 8,
   "metadata": {},
   "outputs": [],
   "source": [
    "cols_to_keep = [\n",
    "       'start_station_latitude', 'start_station_longitude', 'duration_min', 'start_time', 'end_time',\n",
    "       'end_station_latitude', 'end_station_longitude', 'bike_id', 'user_type',\n",
    "       'age', 'member_gender', 'station_id', 'total_value_of_station', 'cost_to_ride']\n",
    "\n",
    "# final df minus unnecessary columns\n",
    "\n",
    "dev_df = dev_df[cols_to_keep]"
   ]
  },
  {
   "cell_type": "code",
   "execution_count": 44,
   "metadata": {},
   "outputs": [],
   "source": [
    "from sklearn.utils import resample\n",
    "\n",
    "# making necessary bootstrap functions to use over and over\n",
    "\n",
    "def bootstrap_sample(var, func=np.mean, repetitions=10000, conf_interval=[2.5, 97.5]):\n",
    "    test_stat = func(var)\n",
    "    \n",
    "    var_name = str(var)\n",
    "    func_name = str(func)\n",
    "    \n",
    "    repetitions = repetitions\n",
    "    \n",
    "    variables = np.empty(repetitions)\n",
    "    \n",
    "    for i in range(repetitions):\n",
    "        variables[i] = func(resample(var, n_samples = repetitions))\n",
    "    \n",
    "    lower_conf, upper_conf = np.percentile(variables, conf_interval)\n",
    "\n",
    "    return print(f\"Test stat = {test_stat}\"), print('\\n'), print(f\"Confidence interval is between {lower_conf} and {upper_conf}\"), plt.hist(variables), plt.title(\"Bootstrap resample of test stat\"), plt.xlabel(\"Possible test stat values\"), plt.ylabel(\"Count\")#, plt.axvline(test_stat, color='y'), plt.axvline(conf_interval[0], color='y', linestyle='--'), plt.axvline(conf_interval[1], color='y', linestyle='--'), plt.show()"
   ]
  },
  {
   "cell_type": "markdown",
   "metadata": {},
   "source": [
    "### 3. Bootstrap Resampling"
   ]
  },
  {
   "cell_type": "code",
   "execution_count": 45,
   "metadata": {},
   "outputs": [
    {
     "name": "stdout",
     "output_type": "stream",
     "text": [
      "Test stat = 13.912412350842661\n",
      "\n",
      "\n",
      "Confidence interval is between 13.0022775 and 14.9070575\n"
     ]
    },
    {
     "data": {
      "image/png": "[encoded data removed]",
      "text/plain": [
       "<Figure size 432x288 with 1 Axes>"
      ]
     },
     "metadata": {
      "needs_background": "light"
     },
     "output_type": "display_data"
    }
   ],
   "source": [
    "# duration of rides\n",
    "bootstrap_sample(dev_df.duration_min, repetitions=10000);"
   ]
  },
  {
   "cell_type": "code",
   "execution_count": 258,
   "metadata": {},
   "outputs": [
    {
     "name": "stdout",
     "output_type": "stream",
     "text": [
      "Test stat = 37.606347644236685\n",
      "\n",
      "\n",
      "Confidence interval is between 37.4238 and 37.7926025\n"
     ]
    },
    {
     "data": {
      "image/png": "[encoded data removed]",
      "text/plain": [
       "<Figure size 432x288 with 1 Axes>"
      ]
     },
     "metadata": {
      "needs_background": "light"
     },
     "output_type": "display_data"
    }
   ],
   "source": [
    "# mean age\n",
    "bootstrap_sample(dev_df.age);"
   ]
  },
  {
   "cell_type": "code",
   "execution_count": 259,
   "metadata": {},
   "outputs": [
    {
     "name": "stdout",
     "output_type": "stream",
     "text": [
      "Test stat = 0.8569319719522697\n",
      "\n",
      "\n",
      "Confidence interval is between 0.6771975 and 1.0527075\n"
     ]
    },
    {
     "data": {
      "image/png": "[encoded data removed]",
      "text/plain": [
       "<Figure size 432x288 with 1 Axes>"
      ]
     },
     "metadata": {
      "needs_background": "light"
     },
     "output_type": "display_data"
    }
   ],
   "source": [
    "bootstrap_sample(dev_df.cost_to_ride);"
   ]
  },
  {
   "cell_type": "markdown",
   "metadata": {},
   "source": [
    "### Bootstrap Resampling of standard deviation differences\n",
    "Checking the difference between subscriber and customer cost of ride standard deviations"
   ]
  },
  {
   "cell_type": "code",
   "execution_count": 14,
   "metadata": {},
   "outputs": [],
   "source": [
    "def std_diff(data_1, data_2):\n",
    "    \"\"\"Difference in means of two arrays.\"\"\"\n",
    "\n",
    "    # The difference of std of data_1, data_2: diff\n",
    "    diff = np.std(data_1) - np.std(data_2)\n",
    "\n",
    "    return diff\n",
    "\n",
    "def permute_sample(data1, data2):\n",
    "    \"\"\"Generate a permutation sample from two data sets.\"\"\"\n",
    "\n",
    "    # Concatenate the data sets: data\n",
    "    data = np.concatenate((data1, data2)) # tuple\n",
    "\n",
    "    # Permute the concatenated array: permuted_data\n",
    "    permuted_data = np.random.permutation(data)\n",
    "\n",
    "    # Split the permuted array into two: perm_sample_1, perm_sample_2\n",
    "    perm_samp_1 = permuted_data[:len(data1)]\n",
    "    perm_samp_2 = permuted_data[len(data1):]\n",
    "\n",
    "    return perm_samp_1, perm_samp_2\n",
    "\n",
    "def draw_perm_reps(data_1, data_2, func, size=1):\n",
    "    \"\"\"Generate multiple permutation replicates.\"\"\"\n",
    "\n",
    "    # Initialize array of replicates: perm_replicates\n",
    "    perm_replicates = np.empty(size)\n",
    "\n",
    "    for i in range(size):\n",
    "        # Generate permutation sample\n",
    "        perm_samp_1, perm_samp_2 = permute_sample(data_1, data_2)\n",
    "\n",
    "        # Compute the test statistic\n",
    "        perm_replicates[i] = func(perm_samp_1, perm_samp_2)\n",
    "\n",
    "    return perm_replicates"
   ]
  },
  {
   "cell_type": "code",
   "execution_count": 24,
   "metadata": {},
   "outputs": [
    {
     "name": "stdout",
     "output_type": "stream",
     "text": [
      "std for subscribers = 3.437848023517044, std for customers = 26.738137912657415\n"
     ]
    }
   ],
   "source": [
    "# split the data up by subscriber and customer\n",
    "subscribers = dev_df[dev_df['user_type'] == 'Subscriber'].cost_to_ride\n",
    "customers = dev_df[dev_df['user_type'] == 'Customer'].cost_to_ride\n",
    "\n",
    "subscribers_std = np.std(subscribers)\n",
    "customers_std = np.std(customers)\n",
    "\n",
    "print(f'std for subscribers = {subscribers_std}, std for customers = {customers_std}')"
   ]
  },
  {
   "cell_type": "code",
   "execution_count": 25,
   "metadata": {},
   "outputs": [],
   "source": [
    "np.random.seed(47)\n",
    "N_rep = 10000\n",
    " \n",
    "bs_sample_std_diff = np.empty(N_rep)    \n",
    " \n",
    "# Generate bootstrap sample: bs_sample\n",
    "bs_sample_std_diff = draw_perm_reps(subscribers, customers, std_diff, N_rep)"
   ]
  },
  {
   "cell_type": "code",
   "execution_count": 30,
   "metadata": {},
   "outputs": [
    {
     "name": "stdout",
     "output_type": "stream",
     "text": [
      "Standard deviation mean diff: 0.7488544815724765\n",
      "95% percentile: lower -7.033363287326461, upper 7.975062033945086\n"
     ]
    },
    {
     "data": {
      "image/png": "[encoded data removed]",
      "text/plain": [
       "<Figure size 432x288 with 1 Axes>"
      ]
     },
     "metadata": {
      "needs_background": "light"
     },
     "output_type": "display_data"
    }
   ],
   "source": [
    "import matplotlib.pyplot as plt\n",
    "%matplotlib inline\n",
    "\n",
    "bs_sample_std_diff = np.sort(bs_sample_std_diff)\n",
    "bs_sample_std_mean = np.mean(bs_sample_std_diff)\n",
    "\n",
    "bs_sample_std_perc_95 = np.percentile(bs_sample_std_diff, [2.5, 97.5])\n",
    "print('Standard deviation mean diff: ' + str(bs_sample_std_mean))\n",
    "print('95% percentile: lower ' + str(bs_sample_std_perc_95[0]) + ', upper ' + str(bs_sample_std_perc_95[1]))\n",
    "_ = plt.hist(bs_sample_std_diff, bins=30, normed=True)\n",
    "_ = plt.xlabel('Diff in Std of cost of ride - subscribers vs. customers')\n",
    "_ = plt.ylabel('PDF')\n",
    "_ = plt.axvline(bs_sample_std_mean, color='y')\n",
    "_ = plt.axvline(bs_sample_std_perc_95[0], color='y', linestyle='--') \n",
    "_ = plt.axvline(bs_sample_std_perc_95[1], color='y', linestyle='--') \n",
    "plt.show()"
   ]
  },
  {
   "cell_type": "markdown",
   "metadata": {},
   "source": [
    "H0 = there is a difference between the standard deviations of cost to ride for customers vs. subscribers\n",
    "H1 = there is no difference between the standard deviations of cost to ride for customers vs. subscribers\n",
    "\n",
    "95% confidence interval is -7 to 7.97 standard deviation, so we lack sufficient evidence to state H0 that there is a difference, and thus reject the null hypothesis, meaning that the mean standard deviation of the cost to ride for customers and subscribers is within the confidence interval range and thus is unlikely to have been observed by random chance. "
   ]
  },
  {
   "cell_type": "code",
   "execution_count": null,
   "metadata": {},
   "outputs": [],
   "source": []
  }
 ],
 "metadata": {
  "kernelspec": {
   "display_name": "Python 3",
   "language": "python",
   "name": "python3"
  },
  "language_info": {
   "codemirror_mode": {
    "name": "ipython",
    "version": 3
   },
   "file_extension": ".py",
   "mimetype": "text/x-python",
   "name": "python",
   "nbconvert_exporter": "python",
   "pygments_lexer": "ipython3",
   "version": "3.7.1"
  }
 },
 "nbformat": 4,
 "nbformat_minor": 2
}
