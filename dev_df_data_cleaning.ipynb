{
 "cells": [
  {
   "cell_type": "markdown",
   "metadata": {},
   "source": [
    "# Setting up the notebook"
   ]
  },
  {
   "cell_type": "code",
   "execution_count": 2,
   "metadata": {},
   "outputs": [
    {
     "name": "stdout",
     "output_type": "stream",
     "text": [
      "Wall time: 0 ns\n"
     ]
    }
   ],
   "source": [
    "import os\n",
    "import pandas as pd\n",
    "\n",
    "# Create all data cleaning processing steps in one DF and batch process\n",
    "# the rest on the server or cloud.\n",
    "\n",
    "# Set WD to location of data\n",
    "os.chdir('C:/Users/riley/Documents/Coding/DSC/lyft_no_data/')\n",
    "\n",
    "# Load the one data file to practice on\n",
    "dev_df = pd.read_csv('201801-fordgobike-tripdata.csv')"
   ]
  },
  {
   "cell_type": "markdown",
   "metadata": {},
   "source": [
    "# Data Cleaning and Feature Engineering"
   ]
  },
  {
   "cell_type": "code",
   "execution_count": 3,
   "metadata": {},
   "outputs": [
    {
     "name": "stdout",
     "output_type": "stream",
     "text": [
      "Wall time: 0 ns\n"
     ]
    }
   ],
   "source": [
    "import numpy as np\n",
    "import datetime\n",
    "\n",
    "# Establishing the following data cleaning protocols in this test environment for this df and then will apply to master\n",
    "# on server or cloud if needed but it shouldn't be too computationally\n",
    "# taxing either way.\n",
    "\n",
    "# Get min from seconds column\n",
    "dev_df['duration_min'] = np.round(dev_df['duration_sec'] / 60, 0)\n",
    "\n",
    "# Will now interpolate the member_birth_year with the mean birth year\n",
    "# Also, I'm gonna get their age by subtracting now() from their birth year\n",
    "dev_df['member_birth_year'].fillna(np.mean(dev_df['member_birth_year']), inplace=True)\n",
    "\n",
    "# That got years as floats so I'm changing it to int:\n",
    "dev_df['member_birth_year'] = dev_df['member_birth_year'].apply(np.int64)\n",
    "\n",
    "# Now let's get the current year and subtract that from birth year to get age.\n",
    "now = datetime.datetime.now()\n",
    "dev_df['age'] = now.year - dev_df['member_birth_year']"
   ]
  },
  {
   "cell_type": "code",
   "execution_count": 4,
   "metadata": {},
   "outputs": [],
   "source": [
    "# Re-order the columns so the time information is at the beginning\n",
    "dev_df = dev_df[['duration_sec', 'duration_min', 'start_time', 'end_time', 'start_station_id',\n",
    "       'start_station_name', 'start_station_latitude',\n",
    "       'start_station_longitude', 'end_station_id', 'end_station_name',\n",
    "       'end_station_latitude', 'end_station_longitude', 'bike_id', 'user_type',\n",
    "       'member_birth_year', 'member_gender', 'bike_share_for_all_trip']]"
   ]
  },
  {
   "cell_type": "code",
   "execution_count": 6,
   "metadata": {},
   "outputs": [
    {
     "name": "stderr",
     "output_type": "stream",
     "text": [
      "UsageError: Line magic function `%%time` not found.\n"
     ]
    }
   ],
   "source": [
    "# list comprehension on the start_time column to get datetime\n",
    "from dateutil import parser\n",
    "\n",
    "# This runs a bit slowly (12 S for 90,000 rows) - look for alternatives\n",
    "dev_df['start_time'] = [parser.parse(timestring) for timestring in dev_df['start_time']];"
   ]
  },
  {
   "cell_type": "code",
   "execution_count": 16,
   "metadata": {},
   "outputs": [
    {
     "name": "stderr",
     "output_type": "stream",
     "text": [
      "c:\\users\\riley\\appdata\\local\\programs\\python\\python37-32\\lib\\site-packages\\ipykernel_launcher.py:4: SettingWithCopyWarning: \n",
      "A value is trying to be set on a copy of a slice from a DataFrame.\n",
      "Try using .loc[row_indexer,col_indexer] = value instead\n",
      "\n",
      "See the caveats in the documentation: http://pandas.pydata.org/pandas-docs/stable/indexing.html#indexing-view-versus-copy\n",
      "  after removing the cwd from sys.path.\n"
     ]
    }
   ],
   "source": [
    "# list comprehension and apply both are slow for parser, is there a faster method?\n",
    "from dateutil import parser\n",
    "\n",
    "# Same slowness as above\n",
    "dev_df['end_time'] = dev_df['end_time'].apply(lambda x: parser.parse(x));"
   ]
  },
  {
   "cell_type": "code",
   "execution_count": 7,
   "metadata": {},
   "outputs": [],
   "source": [
    "# Encode the different categorical genders to integers\n",
    "genders = {'Male': 0, 'Female':1, 'Other':2}\n",
    "\n",
    "# Use replace to replace each key in genders dict with corresponding value\n",
    "dev_df['member_gender'].replace(genders, inplace=True);"
   ]
  },
  {
   "cell_type": "code",
   "execution_count": null,
   "metadata": {},
   "outputs": [],
   "source": [
    "############## SLOW - do not run yet ####################\n",
    "\n",
    "# list comprehensions for the customer and subscriber costs\n",
    "\n",
    "import math as m\n",
    "\n",
    "# Calculates the cost of the ride based on two distinct rider types:\n",
    "# Customers - who are charged $2 for rides under 30 min, and an additional\n",
    "# $3 per 15 min.\n",
    "# Subscribers - charged nothing up to 45 min per ride, and an additional\n",
    "# $3 per 15 min\n",
    "\n",
    "# The logic is the same, subtract 30 (or 45 min), take the larger number\n",
    "# and ceiling it to get a scalar representing the number of 15 min\n",
    "# increments, then multiply by the price of each additional 15 min\n",
    "# increment\n",
    "\n",
    "customer_costs = [2 + m.ceil(max((minute - 30), 0) / 15) * 3 for minute in dev_df['duration_min'] if np.where(dev_df['user_type'] == 'Customer')]\n",
    "subscriber_costs = [m.ceil(max((minute - 45), 0) / 15) * 3 for minute in dev_df['duration_min'] if np.where(dev_df['user_type'] == 'Subscriber')]"
   ]
  },
  {
   "cell_type": "code",
   "execution_count": null,
   "metadata": {},
   "outputs": [],
   "source": [
    "# For calculating distance: is haversine or euclidian good enough? (80/20)\n",
    "# Does it matter? What does it accomplish?\n",
    "\n",
    "# A. With distance of ride, you can calculate cost per mile (based on avg.\n",
    "# speed traveled by riders)\n",
    "\n",
    "# B. You can get avg. and total distance covered by bikes, which can help\n",
    "# determine how bikes improve/enable mobility."
   ]
  },
  {
   "cell_type": "code",
   "execution_count": null,
   "metadata": {},
   "outputs": [],
   "source": [
    "# USE groupby and unstack to do multiiindexed plotting! Like gender and age and average ride length for example"
   ]
  }
 ],
 "metadata": {
  "kernelspec": {
   "display_name": "Python 3",
   "language": "python",
   "name": "python3"
  },
  "language_info": {
   "codemirror_mode": {
    "name": "ipython",
    "version": 3
   },
   "file_extension": ".py",
   "mimetype": "text/x-python",
   "name": "python",
   "nbconvert_exporter": "python",
   "pygments_lexer": "ipython3",
   "version": "3.7.1"
  }
 },
 "nbformat": 4,
 "nbformat_minor": 2
}
