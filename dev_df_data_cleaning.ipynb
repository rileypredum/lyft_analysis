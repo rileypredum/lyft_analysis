{
 "cells": [
  {
   "cell_type": "markdown",
   "metadata": {},
   "source": [
    "# Setting up the notebook"
   ]
  },
  {
   "cell_type": "code",
   "execution_count": 1,
   "metadata": {},
   "outputs": [],
   "source": [
    "import os\n",
    "import pandas as pd\n",
    "\n",
    "# Set WD to location of data\n",
    "os.chdir('C:/Users/riley/Documents/Coding/DSC/lyft_no_data/')\n",
    "\n",
    "# Load the one data file to practice on\n",
    "dev_df = pd.read_csv('201801-fordgobike-tripdata.csv')"
   ]
  },
  {
   "cell_type": "markdown",
   "metadata": {},
   "source": [
    "# Data Cleaning and Feature Engineering"
   ]
  },
  {
   "cell_type": "code",
   "execution_count": 2,
   "metadata": {},
   "outputs": [],
   "source": [
    "import numpy as np\n",
    "\n",
    "# Get min from seconds column\n",
    "dev_df['duration_min'] = np.round(dev_df['duration_sec'] / 60, 0)"
   ]
  },
  {
   "cell_type": "code",
   "execution_count": 3,
   "metadata": {},
   "outputs": [],
   "source": [
    "# Use pd.to_datetime to convert the time strings to datetime objects\n",
    "# for easier time series analyses\n",
    "\n",
    "dev_df['start_time'] = pd.to_datetime(dev_df['start_time'])\n",
    "dev_df['end_time'] = pd.to_datetime(dev_df['end_time'])"
   ]
  },
  {
   "cell_type": "code",
   "execution_count": 4,
   "metadata": {},
   "outputs": [],
   "source": [
    "# Encode the different categorical genders to integers\n",
    "genders = {'Male': 0, 'Female':1, 'Other':2}\n",
    "\n",
    "# Use replace to replace each key in genders dict with corresponding value\n",
    "dev_df['member_gender'].replace(genders, inplace=True);"
   ]
  },
  {
   "cell_type": "code",
   "execution_count": 5,
   "metadata": {
    "scrolled": true
   },
   "outputs": [
    {
     "name": "stderr",
     "output_type": "stream",
     "text": [
      "c:\\users\\riley\\appdata\\local\\programs\\python\\python37-32\\lib\\site-packages\\ipykernel_launcher.py:13: SettingWithCopyWarning: \n",
      "A value is trying to be set on a copy of a slice from a DataFrame.\n",
      "Try using .loc[row_indexer,col_indexer] = value instead\n",
      "\n",
      "See the caveats in the documentation: http://pandas.pydata.org/pandas-docs/stable/indexing.html#indexing-view-versus-copy\n",
      "  del sys.path[0]\n",
      "c:\\users\\riley\\appdata\\local\\programs\\python\\python37-32\\lib\\site-packages\\ipykernel_launcher.py:19: SettingWithCopyWarning: \n",
      "A value is trying to be set on a copy of a slice from a DataFrame.\n",
      "Try using .loc[row_indexer,col_indexer] = value instead\n",
      "\n",
      "See the caveats in the documentation: http://pandas.pydata.org/pandas-docs/stable/indexing.html#indexing-view-versus-copy\n"
     ]
    }
   ],
   "source": [
    "# Apply the price calculator to separate dfs, one for each customer type\n",
    "# this is pretty fast computationally\n",
    "\n",
    "#\n",
    "\n",
    "import math as m\n",
    "\n",
    "\n",
    "customers = dev_df[dev_df['user_type'] == 'Customer']\n",
    "\n",
    "cost_calc = lambda minute: 2 + m.ceil(max((minute - 30), 0) / 15) * 3\n",
    "\n",
    "customers['cost_to_ride'] = customers['duration_min'].apply(cost_calc)\n",
    "\n",
    "subscribers = dev_df[dev_df['user_type'] == 'Subscriber']\n",
    "\n",
    "cost_calc = lambda minute: m.ceil(max((minute - 45), 0) / 15) * 3\n",
    "\n",
    "subscribers['cost_to_ride'] = subscribers['duration_min'].apply(cost_calc)"
   ]
  },
  {
   "cell_type": "code",
   "execution_count": 6,
   "metadata": {},
   "outputs": [],
   "source": [
    "dev_df_with_cost = pd.concat([subscribers, customers])"
   ]
  },
  {
   "cell_type": "code",
   "execution_count": 7,
   "metadata": {},
   "outputs": [],
   "source": [
    "import datetime\n",
    "\n",
    "# Will now interpolate the member_birth_year with the mean birth year\n",
    "# Also, I'm gonna get their age by subtracting now() from their birth year\n",
    "dev_df_with_cost['member_birth_year'].fillna(np.mean(dev_df_with_cost['member_birth_year']), inplace=True)\n",
    "\n",
    "# That got years as floats so I'm changing it to int:\n",
    "dev_df_with_cost['member_birth_year'] = dev_df_with_cost['member_birth_year'].apply(np.int64)\n",
    "\n",
    "# Now let's get the current year and subtract that from birth year to get age.\n",
    "now = datetime.datetime.now()\n",
    "dev_df_with_cost['age'] = now.year - dev_df_with_cost['member_birth_year']"
   ]
  },
  {
   "cell_type": "code",
   "execution_count": 8,
   "metadata": {},
   "outputs": [],
   "source": [
    "# Re-order the columns so the time information is at the beginning\n",
    "dev_df_with_cost = dev_df_with_cost[['duration_sec', 'duration_min', 'start_time', 'end_time', 'cost_to_ride', 'start_station_id',\n",
    "       'start_station_name', 'start_station_latitude',\n",
    "       'start_station_longitude', 'end_station_id', 'end_station_name',\n",
    "       'end_station_latitude', 'end_station_longitude', 'bike_id', 'user_type',\n",
    "       'member_birth_year', 'age', 'member_gender', 'bike_share_for_all_trip']]"
   ]
  },
  {
   "cell_type": "code",
   "execution_count": 9,
   "metadata": {},
   "outputs": [],
   "source": [
    "cols_to_drop = ['member_birth_year',\n",
    "               'start_station_name',\n",
    "               'end_station_name',\n",
    "               'duration_sec']\n",
    "\n",
    "dev_df_with_cost.drop(cols_to_drop, axis=1, inplace=True)"
   ]
  },
  {
   "cell_type": "code",
   "execution_count": 10,
   "metadata": {},
   "outputs": [
    {
     "data": {
      "text/html": [
       "<div>\n",
       "<style scoped>\n",
       "    .dataframe tbody tr th:only-of-type {\n",
       "        vertical-align: middle;\n",
       "    }\n",
       "\n",
       "    .dataframe tbody tr th {\n",
       "        vertical-align: top;\n",
       "    }\n",
       "\n",
       "    .dataframe thead th {\n",
       "        text-align: right;\n",
       "    }\n",
       "</style>\n",
       "<table border=\"1\" class=\"dataframe\">\n",
       "  <thead>\n",
       "    <tr style=\"text-align: right;\">\n",
       "      <th></th>\n",
       "      <th>duration_min</th>\n",
       "      <th>start_time</th>\n",
       "      <th>end_time</th>\n",
       "      <th>cost_to_ride</th>\n",
       "      <th>start_station_id</th>\n",
       "      <th>start_station_latitude</th>\n",
       "      <th>start_station_longitude</th>\n",
       "      <th>end_station_id</th>\n",
       "      <th>end_station_latitude</th>\n",
       "      <th>end_station_longitude</th>\n",
       "      <th>bike_id</th>\n",
       "      <th>user_type</th>\n",
       "      <th>age</th>\n",
       "      <th>member_gender</th>\n",
       "      <th>bike_share_for_all_trip</th>\n",
       "    </tr>\n",
       "  </thead>\n",
       "  <tbody>\n",
       "    <tr>\n",
       "      <th>0</th>\n",
       "      <td>1255.0</td>\n",
       "      <td>2018-01-31 22:52:35.239</td>\n",
       "      <td>2018-02-01 19:47:19.824</td>\n",
       "      <td>243</td>\n",
       "      <td>120</td>\n",
       "      <td>37.761420</td>\n",
       "      <td>-122.426435</td>\n",
       "      <td>285</td>\n",
       "      <td>37.783521</td>\n",
       "      <td>-122.431158</td>\n",
       "      <td>2765</td>\n",
       "      <td>Subscriber</td>\n",
       "      <td>33</td>\n",
       "      <td>0.0</td>\n",
       "      <td>No</td>\n",
       "    </tr>\n",
       "    <tr>\n",
       "      <th>4</th>\n",
       "      <td>666.0</td>\n",
       "      <td>2018-01-31 19:52:24.667</td>\n",
       "      <td>2018-02-01 06:58:31.053</td>\n",
       "      <td>126</td>\n",
       "      <td>74</td>\n",
       "      <td>37.776435</td>\n",
       "      <td>-122.426244</td>\n",
       "      <td>19</td>\n",
       "      <td>37.788975</td>\n",
       "      <td>-122.403452</td>\n",
       "      <td>617</td>\n",
       "      <td>Subscriber</td>\n",
       "      <td>28</td>\n",
       "      <td>0.0</td>\n",
       "      <td>No</td>\n",
       "    </tr>\n",
       "    <tr>\n",
       "      <th>6</th>\n",
       "      <td>8.0</td>\n",
       "      <td>2018-01-31 23:53:53.632</td>\n",
       "      <td>2018-02-01 00:01:26.805</td>\n",
       "      <td>0</td>\n",
       "      <td>110</td>\n",
       "      <td>37.763708</td>\n",
       "      <td>-122.415204</td>\n",
       "      <td>134</td>\n",
       "      <td>37.752428</td>\n",
       "      <td>-122.420628</td>\n",
       "      <td>3571</td>\n",
       "      <td>Subscriber</td>\n",
       "      <td>31</td>\n",
       "      <td>0.0</td>\n",
       "      <td>No</td>\n",
       "    </tr>\n",
       "    <tr>\n",
       "      <th>7</th>\n",
       "      <td>3.0</td>\n",
       "      <td>2018-01-31 23:52:09.903</td>\n",
       "      <td>2018-01-31 23:55:10.807</td>\n",
       "      <td>0</td>\n",
       "      <td>81</td>\n",
       "      <td>37.775880</td>\n",
       "      <td>-122.393170</td>\n",
       "      <td>93</td>\n",
       "      <td>37.770407</td>\n",
       "      <td>-122.391198</td>\n",
       "      <td>1403</td>\n",
       "      <td>Subscriber</td>\n",
       "      <td>39</td>\n",
       "      <td>0.0</td>\n",
       "      <td>No</td>\n",
       "    </tr>\n",
       "    <tr>\n",
       "      <th>8</th>\n",
       "      <td>17.0</td>\n",
       "      <td>2018-01-31 23:34:56.004</td>\n",
       "      <td>2018-01-31 23:51:32.674</td>\n",
       "      <td>0</td>\n",
       "      <td>134</td>\n",
       "      <td>37.752428</td>\n",
       "      <td>-122.420628</td>\n",
       "      <td>4</td>\n",
       "      <td>37.785881</td>\n",
       "      <td>-122.408915</td>\n",
       "      <td>3675</td>\n",
       "      <td>Subscriber</td>\n",
       "      <td>32</td>\n",
       "      <td>0.0</td>\n",
       "      <td>Yes</td>\n",
       "    </tr>\n",
       "  </tbody>\n",
       "</table>\n",
       "</div>"
      ],
      "text/plain": [
       "   duration_min              start_time                end_time  cost_to_ride  \\\n",
       "0        1255.0 2018-01-31 22:52:35.239 2018-02-01 19:47:19.824           243   \n",
       "4         666.0 2018-01-31 19:52:24.667 2018-02-01 06:58:31.053           126   \n",
       "6           8.0 2018-01-31 23:53:53.632 2018-02-01 00:01:26.805             0   \n",
       "7           3.0 2018-01-31 23:52:09.903 2018-01-31 23:55:10.807             0   \n",
       "8          17.0 2018-01-31 23:34:56.004 2018-01-31 23:51:32.674             0   \n",
       "\n",
       "   start_station_id  start_station_latitude  start_station_longitude  \\\n",
       "0               120               37.761420              -122.426435   \n",
       "4                74               37.776435              -122.426244   \n",
       "6               110               37.763708              -122.415204   \n",
       "7                81               37.775880              -122.393170   \n",
       "8               134               37.752428              -122.420628   \n",
       "\n",
       "   end_station_id  end_station_latitude  end_station_longitude  bike_id  \\\n",
       "0             285             37.783521            -122.431158     2765   \n",
       "4              19             37.788975            -122.403452      617   \n",
       "6             134             37.752428            -122.420628     3571   \n",
       "7              93             37.770407            -122.391198     1403   \n",
       "8               4             37.785881            -122.408915     3675   \n",
       "\n",
       "    user_type  age  member_gender bike_share_for_all_trip  \n",
       "0  Subscriber   33            0.0                      No  \n",
       "4  Subscriber   28            0.0                      No  \n",
       "6  Subscriber   31            0.0                      No  \n",
       "7  Subscriber   39            0.0                      No  \n",
       "8  Subscriber   32            0.0                     Yes  "
      ]
     },
     "execution_count": 10,
     "metadata": {},
     "output_type": "execute_result"
    }
   ],
   "source": [
    "dev_df_with_cost.head()"
   ]
  },
  {
   "cell_type": "markdown",
   "metadata": {},
   "source": [
    "# EDA"
   ]
  },
  {
   "cell_type": "markdown",
   "metadata": {},
   "source": [
    "The purpose of this section is to get started on the EDA unit of DSC on my dev df. I still need to crunch the whole df, but by the time I do that I'll have \"finished\" EDA, or at least I'll know what plots I will want."
   ]
  },
  {
   "cell_type": "code",
   "execution_count": 23,
   "metadata": {},
   "outputs": [
    {
     "data": {
      "text/plain": [
       "(array([1.4564e+04, 3.9142e+04, 2.6485e+04, 1.0409e+04, 3.1510e+03,\n",
       "        7.6000e+02, 1.3800e+02, 3.7000e+01, 6.0000e+01, 5.6000e+01]),\n",
       " array([ 19.,  29.,  39.,  49.,  59.,  69.,  79.,  89.,  99., 109., 119.]),\n",
       " <a list of 10 Patch objects>)"
      ]
     },
     "execution_count": 23,
     "metadata": {},
     "output_type": "execute_result"
    },
    {
     "data": {
      "image/png": "[encoded data removed]",
      "text/plain": [
       "<Figure size 432x288 with 1 Axes>"
      ]
     },
     "metadata": {
      "needs_background": "light"
     },
     "output_type": "display_data"
    }
   ],
   "source": [
    "import matplotlib.pyplot as plt\n",
    "import seaborn as sns\n",
    "%matplotlib inline\n",
    "\n",
    "plt.hist(dev_df_with_cost['age']);"
   ]
  },
  {
   "cell_type": "markdown",
   "metadata": {},
   "source": [
    "Based on the histogram above, I've decided to remove values >= 100"
   ]
  },
  {
   "cell_type": "code",
   "execution_count": 25,
   "metadata": {},
   "outputs": [],
   "source": [
    "# simplify the name of the df\n",
    "dev_df = dev_df_with_cost\n",
    "\n",
    "dev_df = dev_df[dev_df['age'] < 100]"
   ]
  },
  {
   "cell_type": "code",
   "execution_count": 33,
   "metadata": {},
   "outputs": [
    {
     "data": {
      "image/png": "[encoded data removed]",
      "text/plain": [
       "<Figure size 432x288 with 1 Axes>"
      ]
     },
     "metadata": {
      "needs_background": "light"
     },
     "output_type": "display_data"
    }
   ],
   "source": [
    "age = dev_df['age']\n",
    "\n",
    "plt.hist(x=age, bins = 15);"
   ]
  },
  {
   "cell_type": "code",
   "execution_count": 35,
   "metadata": {},
   "outputs": [
    {
     "data": {
      "text/plain": [
       "<matplotlib.axes._subplots.AxesSubplot at 0x1e30fd10>"
      ]
     },
     "execution_count": 35,
     "metadata": {},
     "output_type": "execute_result"
    },
    {
     "data": {
      "image/png": "[encoded data removed]",
      "text/plain": [
       "<Figure size 432x288 with 1 Axes>"
      ]
     },
     "metadata": {
      "needs_background": "light"
     },
     "output_type": "display_data"
    }
   ],
   "source": [
    "sns.boxplot(age);"
   ]
  },
  {
   "cell_type": "code",
   "execution_count": 42,
   "metadata": {},
   "outputs": [],
   "source": [
    "dev_df = dev_df[dev_df['age'] < 90]"
   ]
  },
  {
   "cell_type": "code",
   "execution_count": 45,
   "metadata": {},
   "outputs": [
    {
     "data": {
      "image/png": "[encoded data removed]",
      "text/plain": [
       "<Figure size 432x288 with 1 Axes>"
      ]
     },
     "metadata": {
      "needs_background": "light"
     },
     "output_type": "display_data"
    }
   ],
   "source": [
    "age = dev_df['age']\n",
    "\n",
    "plt.hist(x=age, bins = 15);"
   ]
  },
  {
   "cell_type": "markdown",
   "metadata": {},
   "source": [
    "Honestly I could cut this down to a max age of 75, it doesn't really matter - bikesharing is such a milennial thing."
   ]
  },
  {
   "cell_type": "code",
   "execution_count": 54,
   "metadata": {},
   "outputs": [
    {
     "name": "stdout",
     "output_type": "stream",
     "text": [
      "<class 'pandas.core.frame.DataFrame'>\n",
      "Int64Index: 94649 entries, 0 to 94798\n",
      "Data columns (total 15 columns):\n",
      "duration_min               94649 non-null float64\n",
      "start_time                 94649 non-null datetime64[ns]\n",
      "end_time                   94649 non-null datetime64[ns]\n",
      "cost_to_ride               94649 non-null int64\n",
      "start_station_id           94649 non-null int64\n",
      "start_station_latitude     94649 non-null float64\n",
      "start_station_longitude    94649 non-null float64\n",
      "end_station_id             94649 non-null int64\n",
      "end_station_latitude       94649 non-null float64\n",
      "end_station_longitude      94649 non-null float64\n",
      "bike_id                    94649 non-null int64\n",
      "user_type                  94649 non-null object\n",
      "age                        94649 non-null int64\n",
      "member_gender              86848 non-null float64\n",
      "bike_share_for_all_trip    94649 non-null object\n",
      "dtypes: datetime64[ns](2), float64(6), int64(5), object(2)\n",
      "memory usage: 10.8+ MB\n"
     ]
    }
   ],
   "source": [
    "# try to get rid of the null values in gender\n",
    "\n",
    "test = dev_df['member_gender']\n",
    "\n",
    "dev_df.info()"
   ]
  },
  {
   "cell_type": "code",
   "execution_count": null,
   "metadata": {},
   "outputs": [],
   "source": []
  },
  {
   "cell_type": "code",
   "execution_count": null,
   "metadata": {},
   "outputs": [],
   "source": []
  },
  {
   "cell_type": "code",
   "execution_count": null,
   "metadata": {},
   "outputs": [],
   "source": []
  },
  {
   "cell_type": "code",
   "execution_count": null,
   "metadata": {},
   "outputs": [],
   "source": []
  },
  {
   "cell_type": "code",
   "execution_count": null,
   "metadata": {},
   "outputs": [],
   "source": []
  },
  {
   "cell_type": "code",
   "execution_count": null,
   "metadata": {},
   "outputs": [],
   "source": []
  },
  {
   "cell_type": "code",
   "execution_count": null,
   "metadata": {},
   "outputs": [],
   "source": []
  },
  {
   "cell_type": "code",
   "execution_count": null,
   "metadata": {},
   "outputs": [],
   "source": []
  },
  {
   "cell_type": "code",
   "execution_count": null,
   "metadata": {},
   "outputs": [],
   "source": []
  }
 ],
 "metadata": {
  "kernelspec": {
   "display_name": "Python 3",
   "language": "python",
   "name": "python3"
  },
  "language_info": {
   "codemirror_mode": {
    "name": "ipython",
    "version": 3
   },
   "file_extension": ".py",
   "mimetype": "text/x-python",
   "name": "python",
   "nbconvert_exporter": "python",
   "pygments_lexer": "ipython3",
   "version": "3.7.1"
  }
 },
 "nbformat": 4,
 "nbformat_minor": 2
}
