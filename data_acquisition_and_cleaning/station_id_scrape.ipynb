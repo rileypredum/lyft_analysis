{
 "cells": [
  {
   "cell_type": "markdown",
   "metadata": {},
   "source": [
    "# Notebook purpose\n",
    "\n",
    "The goal of this notebook is to grab the region IDs associated with the station IDs from the JSON dump from Lyft. From here, this DF can be joined on the master DF in order to filter by region ID. \n",
    "\n",
    "To simplify the dataset and make it a more manageable size, I decided to filter down to only SF (region_id 3). To do this, I needed this dataset"
   ]
  },
  {
   "cell_type": "code",
   "execution_count": 39,
   "metadata": {},
   "outputs": [],
   "source": [
    "import os\n",
    "import requests\n",
    "from bs4 import BeautifulSoup\n",
    "import re\n",
    "import numpy as np\n",
    "import pandas as pd"
   ]
  },
  {
   "cell_type": "code",
   "execution_count": 59,
   "metadata": {},
   "outputs": [],
   "source": [
    "r = requests.get(\"https://gbfs.baywheels.com/gbfs/en/station_information.json\")\n",
    "station_data = r.json()"
   ]
  },
  {
   "cell_type": "code",
   "execution_count": 74,
   "metadata": {},
   "outputs": [],
   "source": [
    "names = []\n",
    "stations = np.empty(385)\n",
    "region_ids = []\n",
    "\n",
    "for i in range(385):\n",
    "    name = station_data['data']['stations'][i]['name']\n",
    "    names.append(name)\n",
    "    \n",
    "    if 'region_id' in station_data['data']['stations'][i]:\n",
    "        region = station_data['data']['stations'][i]['region_id']\n",
    "        region_ids.append(region)\n",
    "    else:\n",
    "        region = 0\n",
    "        region_ids.append(region)\n",
    "    \n",
    "    stations[i] = station_data['data']['stations'][i]['station_id']"
   ]
  },
  {
   "cell_type": "code",
   "execution_count": 75,
   "metadata": {},
   "outputs": [],
   "source": [
    "station_ids = pd.DataFrame(data={\"names\": names, \"station_id\": stations, \"region_id\": region_ids})\n",
    "\n",
    "station_ids['station_id'] = station_ids['station_id'].apply(lambda x: int(x))"
   ]
  },
  {
   "cell_type": "code",
   "execution_count": 80,
   "metadata": {},
   "outputs": [],
   "source": [
    "station_ids.to_csv(\"../region_ids.csv\")"
   ]
  }
 ],
 "metadata": {
  "kernelspec": {
   "display_name": "Python 3",
   "language": "python",
   "name": "python3"
  },
  "language_info": {
   "codemirror_mode": {
    "name": "ipython",
    "version": 3
   },
   "file_extension": ".py",
   "mimetype": "text/x-python",
   "name": "python",
   "nbconvert_exporter": "python",
   "pygments_lexer": "ipython3",
   "version": "3.7.1"
  }
 },
 "nbformat": 4,
 "nbformat_minor": 2
}
